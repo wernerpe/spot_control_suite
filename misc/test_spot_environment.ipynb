{
 "cells": [
  {
   "cell_type": "code",
   "execution_count": 1,
   "metadata": {},
   "outputs": [],
   "source": [
    "%load_ext autoreload\n",
    "# Enable autoreload for all modules\n",
    "%autoreload 2\n",
    "from spot_control_suite.util.terrain_utils import get_terrain_urdf\n",
    "from spot_control_suite.util.asset_utils import get_asset_path, AddSpotRemote\n",
    "\n",
    "import numpy as np\n",
    "from pydrake.all import(Meldis, \n",
    "                        RobotDiagramBuilder, \n",
    "                        AddDefaultVisualization, \n",
    "                        Rgba, \n",
    "                        Sphere, \n",
    "                        RigidTransform,\n",
    "                        RotationMatrix)\n",
    "from functools import partial"
   ]
  },
  {
   "cell_type": "code",
   "execution_count": 2,
   "metadata": {},
   "outputs": [],
   "source": [
    "\n",
    "resolution = [20, 20]\n",
    "height = np.random.rand(*resolution)*0.1\n",
    "name = 'test_trimesh'\n",
    "length = 1\n",
    "width = 1\n",
    "\n",
    "path_urdf, points, triangles = get_terrain_urdf(length, width, height, name)\n",
    "\n",
    "radius = 0.2\n",
    "ball_urdf = f'''\n",
    "<robot name=\"ball_in_boxes\">\n",
    "  <link name=\"movable\">\n",
    "    <collision name=\"sphere\">\n",
    "      <geometry><sphere radius=\"{radius:.2f}\"/></geometry>\n",
    "    </collision>\n",
    "    <visual name=\"sphere_vis\">\n",
    "      <geometry><sphere radius=\"{radius:.2f}\"/></geometry>\n",
    "    </visual>\n",
    "  </link>\n",
    "  <link name=\"for_joint\"/>\n",
    "  <link name=\"for_joint2\"/>\n",
    "  <joint name=\"x\" type=\"prismatic\">\n",
    "    <axis xyz=\"1 0 0\"/>\n",
    "    <limit lower=\"-2\" upper=\"2\"/>\n",
    "    <parent link=\"world\"/>\n",
    "    <child link=\"for_joint\"/>\n",
    "  </joint>\n",
    "  <joint name=\"y\" type=\"prismatic\">\n",
    "    <axis xyz=\"0 1 0\"/>\n",
    "    <limit lower=\"-2\" upper=\"2\"/>\n",
    "    <parent link=\"for_joint\"/>\n",
    "    <child link=\"for_joint2\"/>\n",
    "  </joint>\n",
    "  <joint name=\"z\" type=\"prismatic\">\n",
    "    <axis xyz=\"0 0 1\"/>\n",
    "    <limit lower=\"-2\" upper=\"2\"/>\n",
    "    <parent link=\"for_joint2\"/>\n",
    "    <child link=\"movable\"/>\n",
    "  </joint>\n",
    "</robot>'''"
   ]
  },
  {
   "cell_type": "code",
   "execution_count": 4,
   "metadata": {},
   "outputs": [
    {
     "name": "stderr",
     "output_type": "stream",
     "text": [
      "INFO:drake:Meldis is listening for LCM messages at udpm://239.255.76.67:7667?ttl=0\n",
      "INFO:drake:Meshcat listening for connections at http://localhost:7001\n",
      "INFO:drake:PackageMap: Downloading https://github.com/wrangel-bdai/spot_ros2/archive/20965ef7bba98598ee10878c7b54e6ef28a300c6.tar.gz\n"
     ]
    }
   ],
   "source": [
    "\n",
    "#meshcat = StartMeshcat()\n",
    "meldis = Meldis()\n",
    "meshcat = meldis.meshcat\n",
    "builder = RobotDiagramBuilder()\n",
    "plant = builder.plant()\n",
    "scene_graph = builder.scene_graph()\n",
    "parser = builder.parser()\n",
    "AddSpotRemote(parser)\n",
    "model = parser.AddModels(path_urdf)\n",
    "spot_urdf = get_asset_path() + '/spot/spot_with_arm_and_floating_base_actuators.urdf'\n",
    "model2 = parser.AddModels(spot_urdf)\n",
    "frame = plant.GetFrameByName(f\"{name}\", model[0])\n",
    "plant.WeldFrames(plant.world_frame(), frame)\n",
    "plant.Finalize()\n",
    "visualizer = AddDefaultVisualization(builder.builder(), meshcat)\n",
    "diagram = builder.Build()\n",
    "diagram_context = diagram.CreateDefaultContext()\n",
    "plant_context = plant.GetMyContextFromRoot(diagram_context)\n",
    "diagram.ForcedPublish(diagram_context)"
   ]
  },
  {
   "cell_type": "code",
   "execution_count": 4,
   "metadata": {},
   "outputs": [
    {
     "data": {
      "application/vnd.jupyter.widget-view+json": {
       "model_id": "b16e01fc878d4a56aa12ae055307615e",
       "version_major": 2,
       "version_minor": 0
      },
      "text/plain": [
       "FloatSlider(value=0.0, description='q0', max=1.98, min=-1.98, step=0.0001)"
      ]
     },
     "metadata": {},
     "output_type": "display_data"
    },
    {
     "data": {
      "application/vnd.jupyter.widget-view+json": {
       "model_id": "18b4a83afa23403bb38bca5cade4bdcf",
       "version_major": 2,
       "version_minor": 0
      },
      "text/plain": [
       "FloatSlider(value=0.0, description='q1', max=1.98, min=-1.98, step=0.0001)"
      ]
     },
     "metadata": {},
     "output_type": "display_data"
    },
    {
     "data": {
      "application/vnd.jupyter.widget-view+json": {
       "model_id": "414f041528fe4113b3aefb0fdf82d684",
       "version_major": 2,
       "version_minor": 0
      },
      "text/plain": [
       "FloatSlider(value=0.0, description='q2', max=1.98, min=-1.98, step=0.0001)"
      ]
     },
     "metadata": {},
     "output_type": "display_data"
    }
   ],
   "source": [
    "import ipywidgets as widgets\n",
    "q = np.zeros(plant.num_positions()) \n",
    "sliders = []\n",
    "for i in range(plant.num_positions()):\n",
    "    q_low = plant.GetPositionLowerLimits()[i]*0.99\n",
    "    q_high = plant.GetPositionUpperLimits()[i]*0.99\n",
    "    sliders.append(widgets.FloatSlider(min=q_low, max=q_high, value=0, step=0.0001, description=f\"q{i}\"))\n",
    "col_col =  Rgba(0.8, 0.0, 0, 0.5)    \n",
    "col_free =  Rgba(0.0, 0.8, 0.5, 0.5) \n",
    "def showres(qvis):\n",
    "    plant.SetPositions(plant_context, qvis)\n",
    "    diagram.ForcedPublish(diagram_context)\n",
    "    query = plant.get_geometry_query_input_port().Eval(plant_context)\n",
    "    col = query.HasCollisions()\n",
    "    if col:\n",
    "        meshcat.SetObject(f\"/drake/visualizer/shunk\",\n",
    "                                   Sphere(0.2),\n",
    "                                   col_col)\n",
    "    else:\n",
    "        meshcat.SetObject(f\"/drake/visualizer/shunk\",\n",
    "                                   Sphere(0.2),\n",
    "                                   col_free)\n",
    "    meshcat.SetTransform(f\"/drake/visualizer/shunk\",\n",
    "                                   RigidTransform(RotationMatrix(),\n",
    "                                                  np.array([0,0,0.5])))\n",
    "    return col\n",
    "\n",
    "def handle_slider_change(change, idx):\n",
    "    q[idx] = change['new']\n",
    "    showres(q)\n",
    "idx = 0\n",
    "for slider in sliders:\n",
    "    slider.observe(partial(handle_slider_change, idx = idx), names='value')\n",
    "    idx+=1\n",
    "\n",
    "for slider in sliders:\n",
    "    display(slider)"
   ]
  },
  {
   "cell_type": "code",
   "execution_count": null,
   "metadata": {},
   "outputs": [],
   "source": []
  }
 ],
 "metadata": {
  "kernelspec": {
   "display_name": "Python 3",
   "language": "python",
   "name": "python3"
  },
  "language_info": {
   "codemirror_mode": {
    "name": "ipython",
    "version": 3
   },
   "file_extension": ".py",
   "mimetype": "text/x-python",
   "name": "python",
   "nbconvert_exporter": "python",
   "pygments_lexer": "ipython3",
   "version": "3.10.12"
  }
 },
 "nbformat": 4,
 "nbformat_minor": 2
}
