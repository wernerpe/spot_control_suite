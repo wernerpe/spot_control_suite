{
 "cells": [
  {
   "cell_type": "code",
   "execution_count": 1,
   "metadata": {},
   "outputs": [],
   "source": [
    "%load_ext autoreload\n",
    "# Enable autoreload for all modules\n",
    "%autoreload 2\n",
    "from spot_control_suite.util.terrain_utils import get_terrain_urdf, get_ig_terrain_urdf\n",
    "from spot_control_suite.util.asset_utils import get_asset_path, AddSpotRemote\n",
    "\n",
    "import numpy as np\n",
    "from pydrake.all import(Meldis, \n",
    "                        RobotDiagramBuilder, \n",
    "                        AddDefaultVisualization, \n",
    "                        Rgba, \n",
    "                        Sphere, \n",
    "                        RigidTransform,\n",
    "                        RotationMatrix)\n",
    "from functools import partial"
   ]
  },
  {
   "cell_type": "code",
   "execution_count": 2,
   "metadata": {},
   "outputs": [
    {
     "name": "stdout",
     "output_type": "stream",
     "text": [
      "test_random\n"
     ]
    }
   ],
   "source": [
    "\n",
    "# resolution = [20, 20]\n",
    "# height = np.random.rand(*resolution)*0.1\n",
    "# name = 'test_trimesh'\n",
    "# length = 1\n",
    "# width = 1\n",
    "\n",
    "from spot_control_suite.util.isaac_gym_terrain_generation import terrain_types\n",
    "#path_terrain_urdf, points, triangles = get_terrain_urdf(length, width, height, name)\n",
    "path_terrain_urdf, points, triangles = get_ig_terrain_urdf('test', \n",
    "                                                           'random', \n",
    "                                                           xlen=8., \n",
    "                                                           ylen=8.,\n",
    "                                                           zscale=0.01,\n",
    "                                                           resolution_x=512,\n",
    "                                                           subterrain_splits=1,\n",
    "                                                           centered=True)\n",
    "terrain_name = path_terrain_urdf.split('/')[-1][:-5]\n",
    "print(terrain_name)\n",
    "radius = 0.2\n",
    "ball_urdf = f'''\n",
    "<robot name=\"ball_in_boxes\">\n",
    "  <link name=\"movable\">\n",
    "    <collision name=\"sphere\">\n",
    "      <geometry><sphere radius=\"{radius:.2f}\"/></geometry>\n",
    "    </collision>\n",
    "    <visual name=\"sphere_vis\">\n",
    "      <geometry><sphere radius=\"{radius:.2f}\"/></geometry>\n",
    "    </visual>\n",
    "  </link>\n",
    "  <link name=\"for_joint\"/>\n",
    "  <link name=\"for_joint2\"/>\n",
    "  <joint name=\"x\" type=\"prismatic\">\n",
    "    <axis xyz=\"1 0 0\"/>\n",
    "    <limit lower=\"-2\" upper=\"2\"/>\n",
    "    <parent link=\"world\"/>\n",
    "    <child link=\"for_joint\"/>\n",
    "  </joint>\n",
    "  <joint name=\"y\" type=\"prismatic\">\n",
    "    <axis xyz=\"0 1 0\"/>\n",
    "    <limit lower=\"-2\" upper=\"2\"/>\n",
    "    <parent link=\"for_joint\"/>\n",
    "    <child link=\"for_joint2\"/>\n",
    "  </joint>\n",
    "  <joint name=\"z\" type=\"prismatic\">\n",
    "    <axis xyz=\"0 0 1\"/>\n",
    "    <limit lower=\"-2\" upper=\"2\"/>\n",
    "    <parent link=\"for_joint2\"/>\n",
    "    <child link=\"movable\"/>\n",
    "  </joint>\n",
    "</robot>'''"
   ]
  },
  {
   "cell_type": "code",
   "execution_count": 3,
   "metadata": {},
   "outputs": [
    {
     "name": "stderr",
     "output_type": "stream",
     "text": [
      "INFO:drake:Meshcat listening for connections at http://localhost:7001\n"
     ]
    }
   ],
   "source": [
    "\n",
    "#meshcat = StartMeshcat()\n",
    "meldis = Meldis()\n",
    "meshcat = meldis.meshcat\n",
    "builder = RobotDiagramBuilder()\n",
    "plant = builder.plant()\n",
    "scene_graph = builder.scene_graph()\n",
    "parser = builder.parser()\n",
    "AddSpotRemote(parser)\n",
    "model = parser.AddModels(path_terrain_urdf)\n",
    "spot_urdf = get_asset_path() + '/spot/spot_with_arm_and_floating_base_actuators.urdf'\n",
    "model2 = parser.AddModels(spot_urdf)\n",
    "frame = plant.GetFrameByName(f\"{terrain_name}\", model[0])\n",
    "plant.WeldFrames(plant.world_frame(), frame)\n",
    "plant.Finalize()\n",
    "visualizer = AddDefaultVisualization(builder.builder(), meshcat)\n",
    "diagram = builder.Build()\n",
    "diagram_context = diagram.CreateDefaultContext()\n",
    "plant_context = plant.GetMyContextFromRoot(diagram_context)\n",
    "diagram.ForcedPublish(diagram_context)"
   ]
  },
  {
   "cell_type": "code",
   "execution_count": 4,
   "metadata": {},
   "outputs": [
    {
     "name": "stderr",
     "output_type": "stream",
     "text": [
      "/usr/lib/python3/dist-packages/jupyter_client/session.py:716: UserWarning: Message serialization failed with:\n",
      "Out of range float values are not JSON compliant\n",
      "Supporting this message is deprecated in jupyter-client 7, please make sure your message is JSON-compliant\n",
      "  content = self.pack(content)\n"
     ]
    },
    {
     "data": {
      "application/vnd.jupyter.widget-view+json": {
       "model_id": "7d515adb0acf4964bb003cd1a010a1c7",
       "version_major": 2,
       "version_minor": 0
      },
      "text/plain": [
       "FloatSlider(value=0.0, description='q0', max=inf, min=-inf, step=0.0001)"
      ]
     },
     "metadata": {},
     "output_type": "display_data"
    },
    {
     "data": {
      "application/vnd.jupyter.widget-view+json": {
       "model_id": "8a1d4cb90dbb46678610b8d9d47de96e",
       "version_major": 2,
       "version_minor": 0
      },
      "text/plain": [
       "FloatSlider(value=0.0, description='q1', max=inf, min=-inf, step=0.0001)"
      ]
     },
     "metadata": {},
     "output_type": "display_data"
    },
    {
     "data": {
      "application/vnd.jupyter.widget-view+json": {
       "model_id": "6276a52b1d6c4d64a5919ecc5e64de06",
       "version_major": 2,
       "version_minor": 0
      },
      "text/plain": [
       "FloatSlider(value=0.0, description='q2', max=inf, min=-inf, step=0.0001)"
      ]
     },
     "metadata": {},
     "output_type": "display_data"
    },
    {
     "data": {
      "application/vnd.jupyter.widget-view+json": {
       "model_id": "f39f141f89a84aa5820793a591a8359f",
       "version_major": 2,
       "version_minor": 0
      },
      "text/plain": [
       "FloatSlider(value=0.0, description='q3', max=3.1101767270538954, min=-2.5918139392115793, step=0.0001)"
      ]
     },
     "metadata": {},
     "output_type": "display_data"
    },
    {
     "data": {
      "application/vnd.jupyter.widget-view+json": {
       "model_id": "a3c930b568d640ccbfaef9261c31ec8d",
       "version_major": 2,
       "version_minor": 0
      },
      "text/plain": [
       "FloatSlider(value=0.0, description='q4', max=0.5183627878423158, min=-3.1101767270538954, step=0.0001)"
      ]
     },
     "metadata": {},
     "output_type": "display_data"
    },
    {
     "data": {
      "application/vnd.jupyter.widget-view+json": {
       "model_id": "09306ea8f02543a28355c80cd26a9ea5",
       "version_major": 2,
       "version_minor": 0
      },
      "text/plain": [
       "FloatSlider(value=0.0, description='q5', max=3.1101767270538954, step=0.0001)"
      ]
     },
     "metadata": {},
     "output_type": "display_data"
    },
    {
     "data": {
      "application/vnd.jupyter.widget-view+json": {
       "model_id": "55f58b3d477f46ea99dc611dcd977594",
       "version_major": 2,
       "version_minor": 0
      },
      "text/plain": [
       "FloatSlider(value=0.0, description='q6', max=2.764601535159018, min=-2.764601535159018, step=0.0001)"
      ]
     },
     "metadata": {},
     "output_type": "display_data"
    },
    {
     "data": {
      "application/vnd.jupyter.widget-view+json": {
       "model_id": "653093fcd25d48ffb07facbf1a6dcc84",
       "version_major": 2,
       "version_minor": 0
      },
      "text/plain": [
       "FloatSlider(value=0.0, description='q7', max=1.8142697574481057, min=-1.8142697574481057, step=0.0001)"
      ]
     },
     "metadata": {},
     "output_type": "display_data"
    },
    {
     "data": {
      "application/vnd.jupyter.widget-view+json": {
       "model_id": "62e81efc0fa941d3a3323788eda8dae3",
       "version_major": 2,
       "version_minor": 0
      },
      "text/plain": [
       "FloatSlider(value=0.0, description='q8', max=2.850995333132737, min=-2.850995333132737, step=0.0001)"
      ]
     },
     "metadata": {},
     "output_type": "display_data"
    },
    {
     "data": {
      "application/vnd.jupyter.widget-view+json": {
       "model_id": "3e4360d973214420a2de163b6e36ddec",
       "version_major": 2,
       "version_minor": 0
      },
      "text/plain": [
       "FloatSlider(value=0.0, description='q9', max=0.0, min=-1.5543, step=0.0001)"
      ]
     },
     "metadata": {},
     "output_type": "display_data"
    }
   ],
   "source": [
    "import ipywidgets as widgets\n",
    "q = np.zeros(plant.num_positions()) \n",
    "sliders = []\n",
    "for i in range(plant.num_positions()):\n",
    "    q_low = plant.GetPositionLowerLimits()[i]*0.99\n",
    "    q_high = plant.GetPositionUpperLimits()[i]*0.99\n",
    "    sliders.append(widgets.FloatSlider(min=q_low, max=q_high, value=0, step=0.0001, description=f\"q{i}\"))\n",
    "col_col =  Rgba(0.8, 0.0, 0, 0.5)    \n",
    "col_free =  Rgba(0.0, 0.8, 0.5, 0.5) \n",
    "def showres(qvis):\n",
    "    plant.SetPositions(plant_context, qvis)\n",
    "    diagram.ForcedPublish(diagram_context)\n",
    "    query = plant.get_geometry_query_input_port().Eval(plant_context)\n",
    "    col = query.HasCollisions()\n",
    "    if col:\n",
    "        meshcat.SetObject(f\"/drake/visualizer/shunk\",\n",
    "                                   Sphere(0.2),\n",
    "                                   col_col)\n",
    "    else:\n",
    "        meshcat.SetObject(f\"/drake/visualizer/shunk\",\n",
    "                                   Sphere(0.2),\n",
    "                                   col_free)\n",
    "    meshcat.SetTransform(f\"/drake/visualizer/shunk\",\n",
    "                                   RigidTransform(RotationMatrix(),\n",
    "                                                  np.array([0,0,0.5])))\n",
    "    return col\n",
    "\n",
    "def handle_slider_change(change, idx):\n",
    "    q[idx] = change['new']\n",
    "    showres(q)\n",
    "idx = 0\n",
    "for slider in sliders:\n",
    "    slider.observe(partial(handle_slider_change, idx = idx), names='value')\n",
    "    idx+=1\n",
    "\n",
    "for slider in sliders:\n",
    "    display(slider)"
   ]
  },
  {
   "cell_type": "code",
   "execution_count": null,
   "metadata": {},
   "outputs": [],
   "source": []
  }
 ],
 "metadata": {
  "kernelspec": {
   "display_name": "Python 3",
   "language": "python",
   "name": "python3"
  },
  "language_info": {
   "codemirror_mode": {
    "name": "ipython",
    "version": 3
   },
   "file_extension": ".py",
   "mimetype": "text/x-python",
   "name": "python",
   "nbconvert_exporter": "python",
   "pygments_lexer": "ipython3",
   "version": "3.10.12"
  }
 },
 "nbformat": 4,
 "nbformat_minor": 2
}
